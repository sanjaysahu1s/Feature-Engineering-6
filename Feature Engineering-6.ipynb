{
 "cells": [
  {
   "cell_type": "markdown",
   "id": "847adbb7-db76-4977-981e-bb4bb638709c",
   "metadata": {},
   "source": [
    "Q1. Pearson correlation coefficient is a measure of the linear relationship between two variables. Suppose\n",
    "you have collected data on the amount of time students spend studying for an exam and their final exam\n",
    "scores. Calculate the Pearson correlation coefficient between these two variables and interpret the result."
   ]
  },
  {
   "cell_type": "code",
   "execution_count": 1,
   "id": "7e132b29-e0eb-4657-bc62-2dd2c440877f",
   "metadata": {},
   "outputs": [
    {
     "name": "stdout",
     "output_type": "stream",
     "text": [
      "Pearson correlation coefficient: 0.9686648999069225\n",
      "p-value: 0.006627177487725305\n"
     ]
    }
   ],
   "source": [
    "#Answer\n",
    "\n",
    "import scipy.stats as stats\n",
    "\n",
    "# Example data\n",
    "studying_time = [5, 10, 15, 20, 25]  # Amount of time spent studying (in hours)\n",
    "exam_scores = [60, 75, 85, 90, 95]  # Final exam scores\n",
    "\n",
    "# Calculate Pearson correlation coefficient\n",
    "correlation, p_value = stats.pearsonr(studying_time, exam_scores)\n",
    "\n",
    "print(\"Pearson correlation coefficient:\", correlation)\n",
    "print(\"p-value:\", p_value)\n"
   ]
  },
  {
   "cell_type": "markdown",
   "id": "713a2083-06a7-4ad6-91ed-710d94f80b3f",
   "metadata": {},
   "source": [
    "Interpreting the result:\n",
    "\n",
    "If the Pearson correlation coefficient is close to 1, it indicates a strong positive linear relationship, meaning that as the amount of time spent studying increases, the final exam scores also tend to increase.\n",
    "If the Pearson correlation coefficient is close to -1, it indicates a strong negative linear relationship, meaning that as the amount of time spent studying increases, the final exam scores tend to decrease.\n",
    "If the Pearson correlation coefficient is close to 0, it indicates a weak or no linear relationship, meaning that there is no significant linear association between the amount of time spent studying and the final exam scores.\n",
    "The p-value helps determine the statistical significance of the correlation coefficient. If the p-value is less than a chosen significance level (e.g., 0.05), it suggests that the correlation is statistically significant (not due to chance) and provides evidence for a linear relationship between the variables."
   ]
  },
  {
   "cell_type": "markdown",
   "id": "d768ab2e-88b4-43b3-a1dd-6c72edbb4923",
   "metadata": {},
   "source": [
    "                      -------------------------------------------------------------------"
   ]
  },
  {
   "cell_type": "markdown",
   "id": "491180f2-5135-481c-9aa5-c7f7f6e92a5f",
   "metadata": {},
   "source": [
    "Q2. Spearman's rank correlation is a measure of the monotonic relationship between two variables.\n",
    "Suppose you have collected data on the amount of sleep individuals get each night and their overall job\n",
    "satisfaction level on a scale of 1 to 10. Calculate the Spearman's rank correlation between these two\n",
    "variables and interpret the result."
   ]
  },
  {
   "cell_type": "code",
   "execution_count": 2,
   "id": "14be41f7-23ca-4529-bd39-086d50f90de1",
   "metadata": {},
   "outputs": [
    {
     "name": "stdout",
     "output_type": "stream",
     "text": [
      "Spearman's rank correlation coefficient: 0.9746794344808963\n",
      "p-value: 0.004818230468198566\n"
     ]
    }
   ],
   "source": [
    "#Answer\n",
    "\n",
    "import scipy.stats as stats\n",
    "\n",
    "# Example data\n",
    "sleep_hours = [7, 6, 8, 5, 7]  # Amount of sleep individuals get each night\n",
    "job_satisfaction = [8, 6, 9, 4, 7]  # Overall job satisfaction level (on a scale of 1 to 10)\n",
    "\n",
    "# Calculate Spearman's rank correlation coefficient\n",
    "correlation, p_value = stats.spearmanr(sleep_hours, job_satisfaction)\n",
    "\n",
    "print(\"Spearman's rank correlation coefficient:\", correlation)\n",
    "print(\"p-value:\", p_value)\n"
   ]
  },
  {
   "cell_type": "markdown",
   "id": "628bdae5-28fa-4666-be35-80efd17df75b",
   "metadata": {},
   "source": [
    "Interpreting the result:\n",
    "\n",
    "If the Spearman's rank correlation coefficient is close to 1, it indicates a strong positive monotonic relationship. This means that as the amount of sleep individuals get each night increases, their overall job satisfaction tends to increase as well.\n",
    "If the Spearman's rank correlation coefficient is close to -1, it indicates a strong negative monotonic relationship. This means that as the amount of sleep individuals get each night increases, their overall job satisfaction tends to decrease.\n",
    "If the Spearman's rank correlation coefficient is close to 0, it indicates a weak or no monotonic relationship. In other words, there is no significant monotonic association between the amount of sleep individuals get and their overall job satisfaction.\n",
    "Similar to the Pearson correlation coefficient, the p-value helps determine the statistical significance of the correlation coefficient. If the p-value is less than a chosen significance level (e.g., 0.05), it suggests that the correlation is statistically significant (not due to chance) and provides evidence for a monotonic relationship between the variables."
   ]
  },
  {
   "cell_type": "markdown",
   "id": "61e7fe27-1fe2-442b-9990-ddf2b4958328",
   "metadata": {},
   "source": [
    "                      -------------------------------------------------------------------"
   ]
  },
  {
   "cell_type": "markdown",
   "id": "6acec684-dfcf-48b9-919d-91939ae4fe94",
   "metadata": {},
   "source": [
    "Q3. Suppose you are conducting a study to examine the relationship between the number of hours of\n",
    "exercise per week and body mass index (BMI) in a sample of adults. You collected data on both variables\n",
    "for 50 participants. Calculate the Pearson correlation coefficient and the Spearman's rank correlation\n",
    "between these two variables and compare the results."
   ]
  },
  {
   "cell_type": "code",
   "execution_count": 7,
   "id": "d4dc82ff-909e-4092-9473-45d8d8d2ffd8",
   "metadata": {},
   "outputs": [
    {
     "name": "stdout",
     "output_type": "stream",
     "text": [
      "Pearson correlation coefficient: -0.026894403676516083\n",
      "Spearman's rank correlation: -0.005873072450646655\n"
     ]
    }
   ],
   "source": [
    "#Answer\n",
    "\n",
    "import numpy as np\n",
    "from scipy.stats import pearsonr, spearmanr\n",
    "\n",
    "# Define the data\n",
    "exercise_hours = [4, 5, 3, 6, 2, 5, 4, 6, 3, 5, 2, 4, 6, 3, 5, 2, 4, 6, 3, 5, 2, 4, 6, 3, 5, 2, 4, 6, 3, 5, 2, 4, 6, 3, 5, 2, 4, 6, 3, 5, 2, 4, 6, 3, 5, 2, 4, 6, 3, 5, 2, 4, 6, 3]\n",
    "bmi = [22, 24, 23, 25, 26, 24, 22, 23, 24, 25, 23, 22, 24, 23, 25, 26, 24, 22, 23, 24, 25, 23, 22, 24, 23, 25, 26, 24, 22, 23, 24, 25, 23, 22, 24, 23, 25, 26, 24, 22, 23, 24, 25, 23, 22, 24, 23, 25, 26, 24, 22, 23, 24, 25]\n",
    "\n",
    "# Calculate Pearson correlation coefficient\n",
    "pearson_corr, _ = pearsonr(exercise_hours, bmi)\n",
    "\n",
    "# Calculate Spearman's rank correlation\n",
    "spearman_corr, _ = spearmanr(exercise_hours, bmi)\n",
    "\n",
    "# Print the results\n",
    "print(\"Pearson correlation coefficient:\", pearson_corr)\n",
    "print(\"Spearman's rank correlation:\", spearman_corr)\n"
   ]
  },
  {
   "cell_type": "markdown",
   "id": "ab68aa9b-06e7-48ba-9454-ab662e3c7fc2",
   "metadata": {},
   "source": [
    "                      -------------------------------------------------------------------"
   ]
  },
  {
   "cell_type": "markdown",
   "id": "603d8454-0f91-4c58-9047-9330eaa2c9b0",
   "metadata": {},
   "source": [
    "Q4. A researcher is interested in examining the relationship between the number of hours individuals\n",
    "spend watching television per day and their level of physical activity. The researcher collected data on\n",
    "both variables from a sample of 50 participants. Calculate the Pearson correlation coefficient between\n",
    "these two variables."
   ]
  },
  {
   "cell_type": "code",
   "execution_count": 4,
   "id": "d01c6029-65e5-4fe4-aa1a-cd5c9feb57f6",
   "metadata": {},
   "outputs": [
    {
     "name": "stdout",
     "output_type": "stream",
     "text": [
      "Pearson correlation coefficient: 0.969093625973209\n",
      "p-value: 1.9204979344268929e-31\n"
     ]
    }
   ],
   "source": [
    "#Answer\n",
    "\n",
    "import scipy.stats as stats\n",
    "\n",
    "# Example data\n",
    "tv_hours = [3, 5, 2, 4, 6, 2, 1, 3, 5, 4, 3, 2, 6, 1, 3, 4, 2, 5, 4, 3, 1, 2, 3, 5, 4,\n",
    "            3, 2, 6, 1, 3, 4, 2, 5, 4, 3, 1, 2, 3, 5, 4, 3, 2, 6, 1, 3, 4, 2, 5, 4, 3, 2]\n",
    "\n",
    "physical_activity = [2, 4, 1, 3, 5, 2, 1, 2, 4, 3, 2, 1, 5, 1, 2, 3, 1, 4, 3, 2, 1, 1, 2, 4, 3,\n",
    "                     2, 1, 5, 1, 2, 3, 1, 4, 3, 2, 1, 2, 3, 4, 3, 2, 1, 5, 1, 2, 3, 1, 4, 3, 2, 1]\n",
    "\n",
    "# Calculate Pearson correlation coefficient\n",
    "correlation, p_value = stats.pearsonr(tv_hours, physical_activity)\n",
    "\n",
    "print(\"Pearson correlation coefficient:\", correlation)\n",
    "print(\"p-value:\", p_value)\n"
   ]
  },
  {
   "cell_type": "markdown",
   "id": "a1eab7a3-47c9-46bf-9440-71a2e91e1423",
   "metadata": {},
   "source": [
    "he Pearson correlation coefficient measures the linear relationship between two variables, ranging from -1 to 1. The coefficient's value indicates the strength and direction of the linear association between the variables:\n",
    "\n",
    "A value close to 1 suggests a strong positive linear relationship, indicating that as the number of hours spent watching television increases, the level of physical activity tends to increase as well.\n",
    "A value close to -1 suggests a strong negative linear relationship, indicating that as the number of hours spent watching television increases, the level of physical activity tends to decrease.\n",
    "A value close to 0 suggests no or weak linear relationship between the variables.\n",
    "The p-value helps determine the statistical significance of the correlation coefficient. If the p-value is less than a chosen significance level (e.g., 0.05), it suggests that the correlation is statistically significant (not due to chance) and provides evidence for a linear relationship between the variables."
   ]
  },
  {
   "cell_type": "markdown",
   "id": "cefbaf43-6ff9-49ad-b189-2a56c6f188e8",
   "metadata": {},
   "source": [
    "                      -------------------------------------------------------------------"
   ]
  },
  {
   "cell_type": "raw",
   "id": "f56d5787-e0ac-4475-8f7f-754fa024fcf6",
   "metadata": {},
   "source": [
    "Q5. A survey was conducted to examine the relationship between age and preference for a particular\n",
    "brand of soft drink. The survey results are shown below:\n",
    "\n",
    "Age(Years)          Soft drink Preference\n",
    "25                        Coke\n",
    "42                        Pepsi\n",
    "37                    Mountain dew\n",
    "19                        Coke\n",
    "31                       Pepsi\n",
    "28                        Coke\n"
   ]
  },
  {
   "cell_type": "code",
   "execution_count": 8,
   "id": "c67726a7-8ae8-46db-b04c-93fda859241d",
   "metadata": {},
   "outputs": [
    {
     "name": "stdout",
     "output_type": "stream",
     "text": [
      "Coke            3\n",
      "Pepsi           2\n",
      "Mountain dew    1\n",
      "Name: Soft drink Preference, dtype: int64\n"
     ]
    }
   ],
   "source": [
    "#Answer\n",
    "\n",
    "import pandas as pd\n",
    "\n",
    "# Define the survey results\n",
    "data = {'Age(Years)': [25, 42, 37, 19, 31, 28],\n",
    "        'Soft drink Preference': ['Coke', 'Pepsi', 'Mountain dew', 'Coke', 'Pepsi', 'Coke']}\n",
    "\n",
    "# Create a DataFrame from the survey results\n",
    "df = pd.DataFrame(data)\n",
    "\n",
    "# Create a frequency table\n",
    "frequency_table = df['Soft drink Preference'].value_counts()\n",
    "\n",
    "# Print the frequency table\n",
    "print(frequency_table)\n"
   ]
  },
  {
   "cell_type": "markdown",
   "id": "4bd56842-96dd-463e-9a53-abe5f7acc2c6",
   "metadata": {},
   "source": [
    "                       -------------------------------------------------------------------"
   ]
  },
  {
   "cell_type": "markdown",
   "id": "e5cfcd8a-e250-42a7-8424-c3a5f8fe7a69",
   "metadata": {},
   "source": [
    "Q6. A company is interested in examining the relationship between the number of sales calls made per day\n",
    "and the number of sales made per week. The company collected data on both variables from a sample of\n",
    "30 sales representatives. Calculate the Pearson correlation coefficient between these two variables."
   ]
  },
  {
   "cell_type": "code",
   "execution_count": 9,
   "id": "772c1cf5-7209-4e58-9333-095c9dcdc1df",
   "metadata": {},
   "outputs": [
    {
     "name": "stdout",
     "output_type": "stream",
     "text": [
      "Pearson correlation coefficient: 0.9620742881576122\n"
     ]
    }
   ],
   "source": [
    "#Answer\n",
    "\n",
    "import numpy as np\n",
    "\n",
    "# Define the data\n",
    "sales_calls_per_day = [25, 30, 20, 15, 18, 22, 28, 32, 19, 23, 27, 24, 26, 29, 21, 17, 31, 16, 33, 14, 20, 23, 27, 19, 25, 30, 22, 28, 32, 26]\n",
    "sales_per_week = [5, 7, 4, 3, 4, 6, 7, 8, 4, 5, 6, 5, 6, 7, 5, 3, 7, 3, 8, 2, 4, 5, 6, 4, 5, 6, 5, 7, 8, 6]\n",
    "\n",
    "# Calculate the Pearson correlation coefficient\n",
    "pearson_corr = np.corrcoef(sales_calls_per_day, sales_per_week)[0, 1]\n",
    "\n",
    "# Print the result\n",
    "print(\"Pearson correlation coefficient:\", pearson_corr)\n"
   ]
  },
  {
   "cell_type": "markdown",
   "id": "c195c9bd-aba6-49ad-a195-6b541eb54fb2",
   "metadata": {},
   "source": [
    "                        -------------------------------------------------------------------"
   ]
  }
 ],
 "metadata": {
  "kernelspec": {
   "display_name": "Python 3 (ipykernel)",
   "language": "python",
   "name": "python3"
  },
  "language_info": {
   "codemirror_mode": {
    "name": "ipython",
    "version": 3
   },
   "file_extension": ".py",
   "mimetype": "text/x-python",
   "name": "python",
   "nbconvert_exporter": "python",
   "pygments_lexer": "ipython3",
   "version": "3.10.8"
  }
 },
 "nbformat": 4,
 "nbformat_minor": 5
}
